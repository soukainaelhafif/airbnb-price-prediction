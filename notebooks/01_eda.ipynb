{
 "cells": [
  {
   "cell_type": "markdown",
   "id": "46f2eb77-6d2d-468e-a3bd-d5902764d11d",
   "metadata": {},
   "source": [
    "# Airbnb Berlin — Price Prediction (EDA)\n",
    "\n",
    "**Goal.** Understand which factors explain nightly price in Berlin listings and prepare a clean feature table for a simple baseline model.\n",
    "\n",
    "**This notebook delivers**\n",
    "- Load InsideAirbnb listings (Berlin)\n",
    "- Clean messy fields (price strings, bathrooms)\n",
    "- Quick exploratory plots (distribution, neighbourhoods, room type)\n",
    "- Export a compact, cleaned dataset for model training"
   ]
  },
  {
   "cell_type": "code",
   "execution_count": null,
   "id": "73bda0b7-94a8-453b-89e5-e4d1a79d59e5",
   "metadata": {
    "jp-MarkdownHeadingCollapsed": true
   },
   "outputs": [],
   "source": [
    "# Libraries & display options\n",
    "import numpy as np\n",
    "import pandas as pd\n",
    "import matplotlib.pyplot as plt\n",
    "\n",
    "pd.set_option(\"display.max_columns\", 120)\n",
    "pd.set_option(\"display.width\", 120)\n",
    "\n",
    "print(\"Pandas:\", pd.__version__)"
   ]
  },
  {
   "cell_type": "markdown",
   "id": "409f42c0-8c76-4a89-9253-9bad600337a2",
   "metadata": {},
   "source": [
    "## Data snapshot\n",
    "\n",
    "**Source.** InsideAirbnb `data/listings.csv.gz` (raw scrape).  \n",
    "For EDA plots I restrict prices to **10–500 €** to avoid distortion from rare extremes."
   ]
  },
  {
   "cell_type": "code",
   "execution_count": null,
   "id": "d5fb66c9-ba3c-430d-adbf-c8fabead49ed",
   "metadata": {
    "scrolled": true
   },
   "outputs": [],
   "source": [
    "# Load the raw InsideAirbnb file (run from notebooks/ directory)\n",
    "PATH = \"../data/listings.csv.gz\"\n",
    "df = pd.read_csv(PATH, low_memory=False)\n",
    "\n",
    "print(\"Rows, Cols:\", df.shape)\n",
    "df.head()"
   ]
  },
  {
   "cell_type": "markdown",
   "id": "ddc9351e-061d-4e3f-af4c-360949bd36df",
   "metadata": {},
   "source": [
    "### What’s in the data?\n",
    "\n",
    "I scan column names and dtypes to spot useful features and cleaning needs. Notable fields:\n",
    "- **price** — text with currency symbols / thousand separators\n",
    "- **neighbourhood / neighbourhood_cleansed** — location (both can exist)\n",
    "- **room_type** — category (Entire home/apt, Private room, …)\n",
    "- Counts: `accommodates`, `bedrooms`, `number_of_reviews`, `availability_365`, …"
   ]
  },
  {
   "cell_type": "code",
   "execution_count": null,
   "id": "00d0ab81-7a4b-4614-b149-d10010fe2039",
   "metadata": {
    "scrolled": true
   },
   "outputs": [],
   "source": [
    "# Quick schema overview\n",
    "df.info()                     # shows dtypes + non-nulls\n",
    "df.columns[:40].tolist()      # first 40 column names"
   ]
  },
  {
   "cell_type": "markdown",
   "id": "9fe62f9d-cf9a-45ab-b035-780c7f022ffc",
   "metadata": {},
   "source": [
    "## Price cleaning (turn strings like “€1,234” into floats)\n",
    "\n",
    "Raw prices arrive as strings. I strip currency symbols and separators and parse to **euros**.  \n",
    "Result check: `price` becomes numeric; the summary typically shows a **median ≈ 107 €**."
   ]
  },
  {
   "cell_type": "code",
   "execution_count": null,
   "id": "df9f2755-571f-4911-a777-d9bd57dd40e2",
   "metadata": {},
   "outputs": [],
   "source": [
    "def to_euro(x):\n",
    "    if pd.isna(x):\n",
    "        return np.nan\n",
    "    s = str(x).replace(\"\\xa0\",\"\").replace(\"€\",\"\").replace(\"$\",\"\").strip()\n",
    "    if \",\" in s and \".\" in s:            # z.B. 1.234,56  -> 1234.56\n",
    "        s = s.replace(\".\", \"\").replace(\",\", \".\")\n",
    "    elif \",\" in s:                       # z.B. 1,234     -> 1234\n",
    "        s = s.replace(\",\", \"\")\n",
    "    elif \".\" in s and len(s.split(\".\")[-1]) == 3:  # z.B. 1.234 -> 1234\n",
    "        s = s.replace(\".\", \"\")\n",
    "    try:\n",
    "        return float(s)\n",
    "    except ValueError:\n",
    "        return np.nan\n",
    "# apply price cleaning\n",
    "if \"price\" not in df.columns:\n",
    "    raise KeyError(\"Column 'price' not found.\")\n",
    "df[\"price\"] = df[\"price\"].apply(to_euro)\n",
    "df[\"price\"].describe()\n"
   ]
  },
  {
   "cell_type": "markdown",
   "id": "a9033afe-b5ad-4965-a1a0-092f83631d2f",
   "metadata": {},
   "source": [
    "## Normalise bathrooms & choose a stable neighbourhood column\n",
    "\n",
    "- **Bathrooms.** Listings may have numeric `bathrooms` or textual `bathrooms_text` (e.g. “1 bath”). I create `bathrooms_num` robustly for both cases.\n",
    "- **Neighbourhood.** Prefer `neighbourhood_cleansed` if present; otherwise fall back to `neighbourhood` (robust across InsideAirbnb snapshots)."
   ]
  },
  {
   "cell_type": "code",
   "execution_count": null,
   "id": "d9dedeef-025a-4b6a-a1c2-0811df68498f",
   "metadata": {},
   "outputs": [],
   "source": [
    "# 1) Pick neighbourhood column available in this snapshot\n",
    "if \"neighbourhood_cleansed\" in df.columns:\n",
    "    NBH_COL = \"neighbourhood_cleansed\"\n",
    "elif \"neighbourhood\" in df.columns:\n",
    "    NBH_COL = \"neighbourhood\"\n",
    "else:\n",
    "    NBH_COL = None\n",
    "print(\"Neighbourhood column:\", NBH_COL)\n",
    "\n",
    "# 2) Standardize name to 'neighbourhood' (easier downstream)\n",
    "if NBH_COL and NBH_COL != \"neighbourhood\":\n",
    "    df[\"neighbourhood\"] = df[NBH_COL]\n",
    "    NBH_COL = \"neighbourhood\"\n",
    "\n",
    "# 3) Simple & robust bathrooms parser (handles \"1.5 baths\", \"half bath\", \"1,5\")\n",
    "def simple_bath(x):\n",
    "    \"\"\"Return numeric bathrooms (e.g., '1.5 baths' -> 1.5).\"\"\"\n",
    "    if pd.isna(x):\n",
    "        return np.nan\n",
    "    s = str(x).lower().replace(\",\", \".\")  # 1,5 -> 1.5\n",
    "    if \"half\" in s and not any(ch.isdigit() for ch in s):\n",
    "        return 0.5\n",
    "    buf = []\n",
    "    for ch in s:\n",
    "        if ch.isdigit() or ch == \".\":\n",
    "            buf.append(ch)\n",
    "        elif buf:\n",
    "            break\n",
    "    try:\n",
    "        return float(\"\".join(buf)) if buf else np.nan\n",
    "    except ValueError:\n",
    "        return np.nan\n",
    "\n",
    "# 4) Create bathrooms_num from whichever column exists\n",
    "if \"bathrooms\" in df.columns:\n",
    "    df[\"bathrooms_num\"] = pd.to_numeric(df[\"bathrooms\"], errors=\"coerce\")\n",
    "elif \"bathrooms_text\" in df.columns:\n",
    "    df[\"bathrooms_num\"] = df[\"bathrooms_text\"].apply(simple_bath)\n",
    "else:\n",
    "    df[\"bathrooms_num\"] = np.nan\n",
    "\n",
    "# 5) Make sure typical numeric columns are numeric (simple & safe)\n",
    "for c in [\"accommodates\",\"bedrooms\",\"minimum_nights\",\n",
    "          \"number_of_reviews\",\"reviews_per_month\",\"availability_365\"]:\n",
    "    if c in df.columns:\n",
    "        df[c] = pd.to_numeric(df[c], errors=\"coerce\")\n",
    "\n",
    "# 6) Cast common categoricals (optional, saves memory)\n",
    "if \"room_type\" in df.columns:\n",
    "    df[\"room_type\"] = df[\"room_type\"].astype(\"category\")\n",
    "if NBH_COL:\n",
    "    df[NBH_COL] = df[NBH_COL].astype(\"category\")"
   ]
  },
  {
   "cell_type": "markdown",
   "id": "8a4d7a8d-b653-4c18-aaea-a72f92e9e748",
   "metadata": {},
   "source": [
    "## EDA subset (for plots only)\n",
    "\n",
    "For clearer visuals, plots use listings with **10–500 €**.  \n",
    "(The exported training slice uses the cleaned values; the 10–500 € window is only for charts.)"
   ]
  },
  {
   "cell_type": "code",
   "execution_count": null,
   "id": "5b3972a8-fd99-456d-b209-eb82cbd7c3d5",
   "metadata": {},
   "outputs": [],
   "source": [
    "eda = df.loc[df[\"price\"].between(10, 500)].copy()\n",
    "print(\"EDA shape:\", eda.shape, \"| missing price %:\", f\"{eda['price'].isna().mean()*100:.1f}%\")\n",
    "eda[\"price\"].describe()"
   ]
  },
  {
   "cell_type": "markdown",
   "id": "35c4b654-75c4-47c3-bfca-8db55111f7fd",
   "metadata": {},
   "source": [
    "### What do prices look like?\n",
    "\n",
    "The distribution is **right-skewed**: most listings ~60–180 €, with a long tail to higher prices.  \n",
    "**Mean ≈ 129 €**, **Median ≈ 107 €** → the median represents the “typical” price better."
   ]
  },
  {
   "cell_type": "code",
   "execution_count": null,
   "id": "189a6dab-dc74-4cad-902c-a41d9b8db15a",
   "metadata": {},
   "outputs": [],
   "source": [
    "prices = eda[\"price\"].dropna()\n",
    "\n",
    "plt.figure(figsize=(8,4))\n",
    "plt.hist(prices, bins=60)\n",
    "mean, median = prices.mean(), prices.median()\n",
    "plt.axvline(mean,   linestyle=\"--\", linewidth=1, label=f\"Mean ≈ {mean:.0f}€\")\n",
    "plt.axvline(median, linestyle=\"-.\", linewidth=1, label=f\"Median ≈ {median:.0f}€\")\n",
    "plt.legend(loc=\"upper right\")\n",
    "plt.title(\"Airbnb Price Distribution – Berlin\")\n",
    "plt.xlabel(\"Price (€)\"); \n",
    "plt.ylabel(\"Count\"); \n",
    "plt.xlim(0, 500)\n",
    "plt.tight_layout(); \n",
    "plt.show()"
   ]
  },
  {
   "cell_type": "markdown",
   "id": "c9d95062-68d4-4dfd-9204-48e4b22be5e1",
   "metadata": {},
   "source": [
    "## Which neighbourhoods are more expensive?\n",
    "\n",
    "I compute **average price per neighbourhood**, keeping places with at least **30 listings** for stable means.  \n",
    "In Berlin, central areas (e.g. *Regierungsviertel*, parts of *Prenzlauer Berg*) trend higher; peripheral areas lower."
   ]
  },
  {
   "cell_type": "code",
   "execution_count": null,
   "id": "9ca59efa-e440-4ae5-a4f9-d6f7b9cbc902",
   "metadata": {},
   "outputs": [],
   "source": [
    "MIN_LISTINGS = 30\n",
    "if NBH_COL is not None:\n",
    "    grp = eda.groupby(NBH_COL, observed=True)[\"price\"].agg(mean=\"mean\", n=\"size\")\n",
    "    top = grp[grp[\"n\"] >= MIN_LISTINGS].sort_values(\"mean\", ascending=False).head(15)\n",
    "    plt.figure(figsize=(10,4))\n",
    "    plt.bar(top.index, top[\"mean\"])\n",
    "    plt.xticks(rotation=45, ha=\"right\")\n",
    "    plt.ylabel(\"Average price (€)\")\n",
    "    plt.title(f\"Top neighbourhoods by average price (min {MIN_LISTINGS} listings)\")\n",
    "    plt.tight_layout()\n",
    "    plt.show()\n",
    "else:\n",
    "    print(\"No neighbourhood column found in this snapshot.\")"
   ]
  },
  {
   "cell_type": "markdown",
   "id": "8488c129-f51d-4f6f-8413-ed4b86e750bb",
   "metadata": {},
   "source": [
    "## Price vs room type\n",
    "\n",
    "Boxplots by `room_type` show a clear gradient:\n",
    "- **Entire home/apt** → highest median and spread\n",
    "- **Hotel room / Private room** → lower medians\n",
    "- **Shared room** → lowest\n",
    "\n",
    "This confirms `room_type` as a useful predictor."
   ]
  },
  {
   "cell_type": "code",
   "execution_count": null,
   "id": "30f013e7-9875-47c2-8b75-3181a4baec9b",
   "metadata": {},
   "outputs": [],
   "source": [
    "if \"room_type\" in eda.columns:\n",
    "    order = [x for x in [\"Entire home/apt\",\"Hotel room\",\"Private room\",\"Shared room\"]\n",
    "             if x in eda[\"room_type\"].unique()]\n",
    "    eda = eda.copy()\n",
    "    eda[\"room_type\"] = pd.Categorical(eda[\"room_type\"], categories=order, ordered=True)\n",
    "    plt.figure(figsize=(8,4))\n",
    "    eda.boxplot(column=\"price\", by=\"room_type\", grid=False)\n",
    "    plt.ylim(0, 500)\n",
    "    plt.title(\"Price by room_type\")\n",
    "    plt.suptitle(\"\")\n",
    "    plt.xlabel(\"\")\n",
    "    plt.ylabel(\"Price (€)\")\n",
    "    plt.tight_layout()\n",
    "    plt.show()"
   ]
  },
  {
   "cell_type": "markdown",
   "id": "855d69db-9dc6-4c78-a545-8417178181ea",
   "metadata": {},
   "source": [
    "## Export features for modeling\n",
    "\n",
    "I export a compact table with:  \n",
    "`room_type`, *neighbourhood*, `accommodates`, `bedrooms`, `bathrooms_num`,  \n",
    "`minimum_nights`, `number_of_reviews`, `reviews_per_month`, `availability_365`, and target `price`.\n",
    "\n",
    "Saved to: `data/berlin_clean.csv`."
   ]
  },
  {
   "cell_type": "code",
   "execution_count": null,
   "id": "34e47f0b-7e0c-442d-9427-5d6643a0da96",
   "metadata": {},
   "outputs": [],
   "source": [
    "candidates = [\n",
    "    \"room_type\", NBH_COL, \"accommodates\", \"bedrooms\", \"bathrooms_num\",\n",
    "    \"minimum_nights\", \"number_of_reviews\", \"reviews_per_month\", \"availability_365\"\n",
    "]\n",
    "features = [c for c in candidates if c and c in df.columns]\n",
    "target = \"price\"\n",
    "data_clean = df[features + [target]].dropna()\n",
    "assert len(data_clean) > 0, \"No rows to export after dropna(). Check cleaning/feature list.\"\n",
    "\n",
    "out_path = \"../data/berlin_clean.csv\"\n",
    "Path(out_path).parent.mkdir(parents=True, exist_ok=True)\n",
    "data_clean.to_csv(out_path, index=False)\n",
    "print(\"Saved:\", out_path, \"Shape:\", data_clean.shape)"
   ]
  }
 ],
 "metadata": {
  "kernelspec": {
   "display_name": "Python 3 (ipykernel)",
   "language": "python",
   "name": "python3"
  },
  "language_info": {
   "codemirror_mode": {
    "name": "ipython",
    "version": 3
   },
   "file_extension": ".py",
   "mimetype": "text/x-python",
   "name": "python",
   "nbconvert_exporter": "python",
   "pygments_lexer": "ipython3",
   "version": "3.13.5"
  }
 },
 "nbformat": 4,
 "nbformat_minor": 5
}
